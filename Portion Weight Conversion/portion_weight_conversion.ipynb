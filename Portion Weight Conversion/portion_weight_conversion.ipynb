{
 "cells": [
  {
   "cell_type": "code",
   "execution_count": 1,
   "metadata": {},
   "outputs": [],
   "source": [
    "import pandas as pd"
   ]
  },
  {
   "cell_type": "code",
   "execution_count": 2,
   "metadata": {},
   "outputs": [],
   "source": [
    "# Load the CSV files\n",
    "food_portion_df = pd.read_csv('../FoodData_Central_csv_2024-04-18/FoodData_Central_csv_2024-04-18/food_portion.csv')\n",
    "food_df = pd.read_csv('../FoodData_Central_csv_2024-04-18/FoodData_Central_csv_2024-04-18/food.csv')"
   ]
  },
  {
   "cell_type": "code",
   "execution_count": 3,
   "metadata": {},
   "outputs": [],
   "source": [
    "# Filter food_portion_df to include only rows where modifier is not null\n",
    "food_portion_filtered = food_portion_df[food_portion_df['modifier'].notna()]\n",
    "\n",
    "# Perform a left join with food_df\n",
    "result_df = pd.merge(food_portion_filtered, food_df[['fdc_id', 'description']], \n",
    "                     on='fdc_id', how='left')\n",
    "\n",
    "for index, row in result_df.iterrows():\n",
    "    try:\n",
    "        modifier_int = int(row['modifier'])\n",
    "        result_df.at[index, 'modifier'] =  result_df.at[index, 'portion_description']\n",
    "    except ValueError:\n",
    "        continue\n",
    "\n",
    "# Select only the columns we need\n",
    "final_df = result_df[['fdc_id', 'description', 'amount', 'modifier', 'gram_weight']]\n",
    "\n",
    "# Rename columns, sort, and save to csv\n",
    "final_df = final_df.rename(columns={\n",
    "    'description': 'food_description',\n",
    "    'amount': 'quantity',\n",
    "    'modifier': 'natural_unit',\n",
    "    'gram_weight': 'grams'\n",
    "})\n",
    "\n",
    "final_df = final_df.sort_values('fdc_id')\n",
    "final_df = final_df[~final_df['natural_unit'].str.contains(\"Quantity not specified\", case=False, na=False)]\n",
    "final_df = final_df.reset_index(drop=True)\n",
    "final_df.to_csv('food_unit_conversion.csv', index=False)"
   ]
  },
  {
   "cell_type": "code",
   "execution_count": 4,
   "metadata": {},
   "outputs": [
    {
     "name": "stdout",
     "output_type": "stream",
     "text": [
      "Conversion table has been created and saved as 'food_unit_conversion.csv'\n",
      "\n",
      "First few rows of the conversion table:\n",
      "   fdc_id                                   food_description  quantity  \\\n",
      "0  167512  Pillsbury Golden Layer Buttermilk Biscuits, Ar...       1.0   \n",
      "1  167513  Pillsbury, Cinnamon Rolls with Icing, refriger...       1.0   \n",
      "2  167514  Kraft Foods, Shake N Bake Original Recipe, Coa...       1.0   \n",
      "3  167515     George Weston Bakeries, Thomas English Muffins       1.0   \n",
      "4  167516         Waffles, buttermilk, frozen, ready-to-heat       1.0   \n",
      "\n",
      "                natural_unit  grams  \n",
      "0                    serving   34.0  \n",
      "1  serving 1 roll with icing   44.0  \n",
      "2                    serving   28.0  \n",
      "3                    serving   57.0  \n",
      "4             waffle, square   39.0  \n"
     ]
    }
   ],
   "source": [
    "print(\"Conversion table has been created and saved as 'food_unit_conversion.csv'\")\n",
    "print(\"\\nFirst few rows of the conversion table:\")\n",
    "print(final_df.head())"
   ]
  },
  {
   "cell_type": "code",
   "execution_count": null,
   "metadata": {},
   "outputs": [],
   "source": []
  }
 ],
 "metadata": {
  "kernelspec": {
   "display_name": "Python 3",
   "language": "python",
   "name": "python3"
  },
  "language_info": {
   "codemirror_mode": {
    "name": "ipython",
    "version": 3
   },
   "file_extension": ".py",
   "mimetype": "text/x-python",
   "name": "python",
   "nbconvert_exporter": "python",
   "pygments_lexer": "ipython3",
   "version": "3.12.5"
  }
 },
 "nbformat": 4,
 "nbformat_minor": 2
}
